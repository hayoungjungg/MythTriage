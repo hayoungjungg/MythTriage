{
 "cells": [
  {
   "cell_type": "code",
   "execution_count": 2,
   "metadata": {},
   "outputs": [],
   "source": [
    "import pandas as pd\n",
    "import requests\n",
    "from bs4 import BeautifulSoup\n",
    "import json\n",
    "import re\n",
    "from collections import defaultdict\n",
    "from time import sleep\n",
    "import logging\n",
    "import innertube\n",
    "import os"
   ]
  },
  {
   "cell_type": "code",
   "execution_count": null,
   "metadata": {},
   "outputs": [],
   "source": [
    "SEARCH_DATA = os.getcwd() + os.sep + 'search-data' + os.sep\n",
    "df = pd.read_csv(SEARCH_DATA + \"search_results_metadata.csv\")\n",
    "seed_video_id = set(df['video_id'].tolist())"
   ]
  },
  {
   "cell_type": "code",
   "execution_count": 4,
   "metadata": {},
   "outputs": [],
   "source": [
    "def getRecommendationInnerTube(data):\n",
    "    if 'contents' not in data:\n",
    "        print(\"None found\")\n",
    "        return None\n",
    "    \n",
    "    recommendations = data['contents']['twoColumnWatchNextResults']\n",
    "    if 'secondaryResults' in recommendations:\n",
    "        recommendations = recommendations['secondaryResults']['secondaryResults']['results']\n",
    "    else:\n",
    "        print(\"None found\")\n",
    "        return None\n",
    "    \n",
    "    top_recommendations = []\n",
    "    for rec in recommendations:\n",
    "        try:\n",
    "            video_info = rec['compactVideoRenderer']\n",
    "            title = video_info['title']['simpleText']\n",
    "            video_id = video_info['videoId']\n",
    "            top_recommendations.append((title, video_id))\n",
    "            if len(top_recommendations) == 4:\n",
    "                break\n",
    "        except KeyError:\n",
    "            continue\n",
    "\n",
    "    return top_recommendations\n",
    "    \n",
    "def collect_seed_videos_from_recommendations(id_to_recommendations):\n",
    "    video_id_lists = []\n",
    "    for video_id, list_ in id_to_recommendations.items():\n",
    "        if list_:\n",
    "            for video_id_rec in list_:\n",
    "                video_id_lists.append(video_id_rec[1])\n",
    "                \n",
    "    print(\"Total recommendations collected: \" + str(len(video_id_lists)))\n",
    "    print(\"Total unique videos: \" + str(len(set(video_id_lists))))\n",
    "    return set(video_id_lists)\n",
    "\n",
    "def collect_recommendations(seed_video_id):\n",
    "    id_to_recommendations = defaultdict(list)\n",
    "    for i, video_id in enumerate(seed_video_id):\n",
    "        if i % 20 == 0:\n",
    "            print(i)\n",
    "        try:\n",
    "            data = client.next(video_id)\n",
    "        except Exception as e:\n",
    "            print(e)\n",
    "            return id_to_recommendations\n",
    "        top_recommendations = getRecommendationInnerTube(data)\n",
    "        id_to_recommendations[video_id] = top_recommendations\n",
    "    return id_to_recommendations"
   ]
  },
  {
   "cell_type": "code",
   "execution_count": 30,
   "metadata": {},
   "outputs": [],
   "source": [
    "client = innertube.InnerTube(\"WEB\")"
   ]
  },
  {
   "cell_type": "code",
   "execution_count": null,
   "metadata": {
    "scrolled": true
   },
   "outputs": [],
   "source": [
    "# manually run each level \n",
    "id_to_recommendations = collect_recommendations(level_recommendations) "
   ]
  },
  {
   "cell_type": "code",
   "execution_count": 33,
   "metadata": {
    "scrolled": false
   },
   "outputs": [
    {
     "name": "stdout",
     "output_type": "stream",
     "text": [
      "Total recommendations collected: 202799\n",
      "Total unique videos: 126585\n"
     ]
    }
   ],
   "source": [
    "level_recommendations = collect_seed_videos_from_recommendations(id_to_recommendations)"
   ]
  },
  {
   "cell_type": "code",
   "execution_count": 34,
   "metadata": {},
   "outputs": [],
   "source": [
    "with open('top4-recommendations-level5.json', \"w\") as json_file:\n",
    "    json.dump(id_to_recommendations, json_file, indent=4)"
   ]
  },
  {
   "cell_type": "code",
   "execution_count": null,
   "metadata": {},
   "outputs": [
    {
     "name": "stdout",
     "output_type": "stream",
     "text": [
      "Total recommendations collected: 6356\n",
      "Total unique videos: 3107\n",
      "Total recommendations collected: 12412\n",
      "Total unique videos: 8489\n",
      "Total recommendations collected: 33916\n",
      "Total unique videos: 21849\n",
      "Total recommendations collected: 87224\n",
      "Total unique videos: 55248\n",
      "Total recommendations collected: 202799\n",
      "Total unique videos: 126585\n"
     ]
    }
   ],
   "source": [
    "RECOMMENDATION_DIR = os.getcwd() + '/oud-audit/data-collection-pipeline/recommendation-data/'\n",
    "\n",
    "unique_videos = set()\n",
    "for i in range (1, 6):\n",
    "    str_file = 'top4-recommendations-level' + str(i) + '.json'\n",
    "    with open(RECOMMENDATION_DIR + str_file, 'rb') as f:\n",
    "        id_to_recommendations = json.load(f)\n",
    "    set_recommendations = collect_seed_videos_from_recommendations(id_to_recommendations)\n",
    "    unique_videos.update(set_recommendations)"
   ]
  },
  {
   "cell_type": "code",
   "execution_count": 8,
   "metadata": {},
   "outputs": [
    {
     "data": {
      "text/plain": [
       "164085"
      ]
     },
     "execution_count": 8,
     "metadata": {},
     "output_type": "execute_result"
    }
   ],
   "source": [
    "len(unique_videos)"
   ]
  },
  {
   "cell_type": "code",
   "execution_count": 41,
   "metadata": {},
   "outputs": [],
   "source": [
    "with open('recommendations-all-level-unique-video-id.json', \"w\") as json_file:\n",
    "    json.dump(list(unique_videos), json_file, indent=4)"
   ]
  }
 ],
 "metadata": {
  "kernelspec": {
   "display_name": "Python 3 (ipykernel)",
   "language": "python",
   "name": "python3"
  },
  "language_info": {
   "codemirror_mode": {
    "name": "ipython",
    "version": 3
   },
   "file_extension": ".py",
   "mimetype": "text/x-python",
   "name": "python",
   "nbconvert_exporter": "python",
   "pygments_lexer": "ipython3",
   "version": "3.8.10"
  }
 },
 "nbformat": 4,
 "nbformat_minor": 4
}
